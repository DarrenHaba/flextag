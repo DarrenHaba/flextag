{
 "cells": [
  {
   "cell_type": "markdown",
   "metadata": {},
   "source": [
    "# FlexTag Parser Testing\n",
    "This notebook tests the core parser functionality step by step"
   ]
  },
  {
   "cell_type": "code",
   "execution_count": 6,
   "metadata": {
    "ExecuteTime": {
     "end_time": "2024-12-03T03:49:19.446951Z",
     "start_time": "2024-12-03T03:49:19.435443Z"
    }
   },
   "source": [
    "# Setup\n",
    "from pathlib import Path\n",
    "from ..managers.base import BaseManager\n",
    "from ..managers.data import DataManager\n",
    "from ..managers.parser import ParserProvider\n",
    "\n",
    "\n",
    "# Initialize managers\n",
    "# data_manager = DataManager()\n",
    "# parser_provider = ParserProvider()\n",
    "# data_manager.register(\"parsers\", \"default\", parser_provider)\n",
    "# \n",
    "# print(\"Setup complete\")"
   ],
   "outputs": [
    {
     "ename": "ModuleNotFoundError",
     "evalue": "No module named 'base'",
     "output_type": "error",
     "traceback": [
      "\u001B[1;31m---------------------------------------------------------------------------\u001B[0m",
      "\u001B[1;31mModuleNotFoundError\u001B[0m                       Traceback (most recent call last)",
      "Cell \u001B[1;32mIn[6], line 3\u001B[0m\n\u001B[0;32m      1\u001B[0m \u001B[38;5;66;03m# Setup\u001B[39;00m\n\u001B[0;32m      2\u001B[0m \u001B[38;5;28;01mfrom\u001B[39;00m \u001B[38;5;21;01mpathlib\u001B[39;00m \u001B[38;5;28;01mimport\u001B[39;00m Path\n\u001B[1;32m----> 3\u001B[0m \u001B[38;5;28;01mfrom\u001B[39;00m \u001B[38;5;21;01mflextag\u001B[39;00m\u001B[38;5;21;01m.\u001B[39;00m\u001B[38;5;21;01mmanagers\u001B[39;00m\u001B[38;5;21;01m.\u001B[39;00m\u001B[38;5;21;01mdata\u001B[39;00m \u001B[38;5;28;01mimport\u001B[39;00m DataManager\n\u001B[0;32m      4\u001B[0m \u001B[38;5;66;03m# from ..core.parser import ParserProvider\u001B[39;00m\n\u001B[0;32m      5\u001B[0m \n\u001B[0;32m      6\u001B[0m \u001B[38;5;66;03m# Initialize managers\u001B[39;00m\n\u001B[1;32m   (...)\u001B[0m\n\u001B[0;32m     10\u001B[0m \u001B[38;5;66;03m# \u001B[39;00m\n\u001B[0;32m     11\u001B[0m \u001B[38;5;66;03m# print(\"Setup complete\")\u001B[39;00m\n",
      "File \u001B[1;32mC:\\projects\\_open_source\\flextag\\flextag\\managers\\data.py:3\u001B[0m\n\u001B[0;32m      1\u001B[0m \u001B[38;5;28;01mfrom\u001B[39;00m \u001B[38;5;21;01mtyping\u001B[39;00m \u001B[38;5;28;01mimport\u001B[39;00m Optional\n\u001B[0;32m      2\u001B[0m \u001B[38;5;28;01mfrom\u001B[39;00m \u001B[38;5;21;01mpathlib\u001B[39;00m \u001B[38;5;28;01mimport\u001B[39;00m Path\n\u001B[1;32m----> 3\u001B[0m \u001B[38;5;28;01mfrom\u001B[39;00m \u001B[38;5;21;01mbase\u001B[39;00m \u001B[38;5;28;01mimport\u001B[39;00m BaseManager, ManagerEvent\n\u001B[0;32m      4\u001B[0m \u001B[38;5;28;01mimport\u001B[39;00m \u001B[38;5;21;01mlogging\u001B[39;00m\n\u001B[0;32m      6\u001B[0m logger \u001B[38;5;241m=\u001B[39m logging\u001B[38;5;241m.\u001B[39mgetLogger(\u001B[38;5;18m__name__\u001B[39m)\n",
      "\u001B[1;31mModuleNotFoundError\u001B[0m: No module named 'base'"
     ]
    }
   ]
  },
  {
   "cell_type": "code",
   "execution_count": null,
   "metadata": {},
   "source": [
    "# Test 1: Simple block parsing\n",
    "test_data = \"\"\"\n",
    "[[DATA:block1 #tag1 .path.to.item]]\n",
    "This is content\n",
    "[[/DATA]]\n",
    "\"\"\"\n",
    "\n",
    "# Parse and collect blocks\n",
    "blocks = list(parser_provider.parse_string(test_data))\n",
    "\n",
    "print(\"Expected: 1 block with id='block1', tags=['tag1'], paths=['path.to.item']\")\n",
    "print(f\"\\nGot: {len(blocks)} block(s)\")\n",
    "print(f\"ID: {blocks[0].id}\")\n",
    "print(f\"Tags: {blocks[0].tags}\")\n",
    "print(f\"Paths: {blocks[0].paths}\")\n",
    "print(f\"Content lines: {blocks[0].content_start} to {blocks[0].content_end}\")"
   ]
  },
  {
   "cell_type": "code",
   "execution_count": null,
   "metadata": {},
   "source": [
    "# Test 2: Block with JSON parameters\n",
    "test_data = \"\"\"\n",
    "[[DATA:block2 #config {\"format\": \"json\", \"version\": 1.0}]]\n",
    "{\n",
    "    \"key\": \"value\"\n",
    "}\n",
    "[[/DATA]]\n",
    "\"\"\"\n",
    "\n",
    "blocks = list(parser_provider.parse_string(test_data))\n",
    "\n",
    "print(\"Expected: 1 block with parameters containing format='json' and version=1.0\")\n",
    "print(f\"\\nGot: Parameters = {blocks[0].parameters}\")"
   ]
  },
  {
   "cell_type": "code",
   "execution_count": null,
   "metadata": {},
   "source": [
    "# Test 3: Multiple blocks\n",
    "test_data = \"\"\"\n",
    "[[DATA:first #tag1]]\n",
    "Content 1\n",
    "[[/DATA]]\n",
    "\n",
    "[[DATA:second #tag2]/]]\n",
    "\n",
    "[[DATA:third #tag3 {\"note\": \"test\"}]]\n",
    "Content 3\n",
    "[[/DATA]]\n",
    "\"\"\"\n",
    "\n",
    "blocks = list(parser_provider.parse_string(test_data))\n",
    "\n",
    "print(f\"Expected: 3 blocks (one self-closing)\")\n",
    "print(f\"\\nGot: {len(blocks)} blocks\")\n",
    "for block in blocks:\n",
    "    print(f\"\\nBlock ID: {block.id}\")\n",
    "    print(f\"Is self-closing: {block.content_start == block.content_end}\")"
   ]
  },
  {
   "cell_type": "code",
   "execution_count": null,
   "metadata": {},
   "source": [
    "# Test 4: Error handling\n",
    "test_data = \"\"\"\n",
    "[[DATA:error #tag {invalid_json}]]\n",
    "Content\n",
    "[[/DATA]]\n",
    "\"\"\"\n",
    "\n",
    "print(\"Expected: JSON parsing error\")\n",
    "try:\n",
    "    blocks = list(parser_provider.parse_string(test_data))\n",
    "    print(\"Error: No exception raised\")\n",
    "except json.JSONDecodeError as e:\n",
    "    print(f\"Got expected error: {str(e)}\")"
   ]
  },
  {
   "cell_type": "code",
   "execution_count": null,
   "metadata": {},
   "source": [
    "# Test 5: File handling\n",
    "# Create a temp test file\n",
    "test_file = Path(\"test.flextag\")\n",
    "test_file.write_text(\"\"\"\n",
    "[[DATA:file1 #test]]\n",
    "File content\n",
    "[[/DATA]]\n",
    "\"\"\")\n",
    "\n",
    "blocks = list(parser_provider.parse_file(test_file))\n",
    "\n",
    "print(\"Expected: 1 block with file_path set\")\n",
    "print(f\"\\nGot: file_path = {blocks[0].file_path}\")\n",
    "\n",
    "# Cleanup\n",
    "test_file.unlink()"
   ]
  }
 ],
 "metadata": {
  "kernelspec": {
   "display_name": "Python 3",
   "language": "python",
   "name": "python3"
  }
 }
}

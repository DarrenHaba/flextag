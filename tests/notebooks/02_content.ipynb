{
 "cells": [
  {
   "cell_type": "markdown",
   "metadata": {},
   "source": [
    "# FlexTag Content Handler Testing\n",
    "Testing lazy content loading and handling"
   ]
  },
  {
   "cell_type": "code",
   "execution_count": 1,
   "metadata": {
    "ExecuteTime": {
     "end_time": "2024-12-03T06:17:43.554512Z",
     "start_time": "2024-12-03T06:17:43.530736Z"
    }
   },
   "source": [
    "from pathlib import Path\n",
    "from flextag.managers.data import DataManager\n",
    "from flextag.core.content.provider import ContentProvider\n",
    "\n",
    "# Setup\n",
    "data_manager = DataManager()\n",
    "content_provider = ContentProvider()\n",
    "data_manager.register(\"content_handlers\", \"default\", content_provider)\n",
    "\n",
    "print(\"Setup complete\")"
   ],
   "outputs": [
    {
     "name": "stderr",
     "output_type": "stream",
     "text": [
      "DEBUG:flextag.managers.base:Initialized data_manager\n",
      "DEBUG:flextag.managers.base:data_manager: Created registry 'parsers'\n",
      "DEBUG:flextag.managers.base:data_manager: Created registry 'content_handlers'\n",
      "DEBUG:flextag.managers.base:data_manager: Registered 'default' in 'content_handlers'\n"
     ]
    },
    {
     "name": "stdout",
     "output_type": "stream",
     "text": [
      "Setup complete\n"
     ]
    }
   ]
  },
  {
   "cell_type": "code",
   "execution_count": 3,
   "metadata": {
    "ExecuteTime": {
     "end_time": "2024-12-03T06:17:47.099401Z",
     "start_time": "2024-12-03T06:17:47.096075Z"
    }
   },
   "source": [
    "# Test 1: Basic content loading\n",
    "test_file = Path(\"test.flextag\")\n",
    "test_file.write_text(\"\"\"\n",
    "[[DATA:test1]]\n",
    "Line 1\n",
    "Line 2\n",
    "Line 3\n",
    "[[/DATA]]\n",
    "\"\"\")\n",
    "\n",
    "content = content_provider.get_content(\n",
    "    block_id=\"test1\",\n",
    "    file_path=str(test_file),\n",
    "    line_range=(2, 4)\n",
    ")\n",
    "\n",
    "print(\"Expected: Lines 1-3\")\n",
    "print(f\"Got content:\\n{content}\")\n",
    "\n",
    "content_provider.close()\n",
    "# Cleanup\n",
    "test_file.unlink()"
   ],
   "outputs": [
    {
     "name": "stdout",
     "output_type": "stream",
     "text": [
      "Expected: Lines 1-3\n",
      "Got content:\n",
      "Line 1\n",
      "Line 2\n",
      "Line 3\n"
     ]
    }
   ]
  },
  {
   "cell_type": "code",
   "execution_count": 3,
   "metadata": {
    "ExecuteTime": {
     "end_time": "2024-12-03T05:37:39.677664Z",
     "start_time": "2024-12-03T05:37:39.568054Z"
    }
   },
   "source": [
    "# Test 2: Content format handling\n",
    "json_content = content_provider.get_content(\n",
    "    block_id=\"test2\",\n",
    "    file_path=\"test.flextag\",\n",
    "    line_range=(1, 3),\n",
    "    format=\"json\"\n",
    ")\n",
    "\n",
    "print(f\"Parsed JSON: {json_content}\")"
   ],
   "outputs": [
    {
     "ename": "TypeError",
     "evalue": "ContentProvider.get_content() got an unexpected keyword argument 'format'",
     "output_type": "error",
     "traceback": [
      "\u001B[1;31m---------------------------------------------------------------------------\u001B[0m",
      "\u001B[1;31mTypeError\u001B[0m                                 Traceback (most recent call last)",
      "Cell \u001B[1;32mIn[3], line 2\u001B[0m\n\u001B[0;32m      1\u001B[0m \u001B[38;5;66;03m# Test 2: Content format handling\u001B[39;00m\n\u001B[1;32m----> 2\u001B[0m json_content \u001B[38;5;241m=\u001B[39m \u001B[43mcontent_provider\u001B[49m\u001B[38;5;241;43m.\u001B[39;49m\u001B[43mget_content\u001B[49m\u001B[43m(\u001B[49m\n\u001B[0;32m      3\u001B[0m \u001B[43m    \u001B[49m\u001B[43mblock_id\u001B[49m\u001B[38;5;241;43m=\u001B[39;49m\u001B[38;5;124;43m\"\u001B[39;49m\u001B[38;5;124;43mtest2\u001B[39;49m\u001B[38;5;124;43m\"\u001B[39;49m\u001B[43m,\u001B[49m\n\u001B[0;32m      4\u001B[0m \u001B[43m    \u001B[49m\u001B[43mfile_path\u001B[49m\u001B[38;5;241;43m=\u001B[39;49m\u001B[38;5;124;43m\"\u001B[39;49m\u001B[38;5;124;43mtest.flextag\u001B[39;49m\u001B[38;5;124;43m\"\u001B[39;49m\u001B[43m,\u001B[49m\n\u001B[0;32m      5\u001B[0m \u001B[43m    \u001B[49m\u001B[43mline_range\u001B[49m\u001B[38;5;241;43m=\u001B[39;49m\u001B[43m(\u001B[49m\u001B[38;5;241;43m1\u001B[39;49m\u001B[43m,\u001B[49m\u001B[43m \u001B[49m\u001B[38;5;241;43m3\u001B[39;49m\u001B[43m)\u001B[49m\u001B[43m,\u001B[49m\n\u001B[0;32m      6\u001B[0m \u001B[43m    \u001B[49m\u001B[38;5;28;43mformat\u001B[39;49m\u001B[38;5;241;43m=\u001B[39;49m\u001B[38;5;124;43m\"\u001B[39;49m\u001B[38;5;124;43mjson\u001B[39;49m\u001B[38;5;124;43m\"\u001B[39;49m\n\u001B[0;32m      7\u001B[0m \u001B[43m)\u001B[49m\n\u001B[0;32m      9\u001B[0m \u001B[38;5;28mprint\u001B[39m(\u001B[38;5;124mf\u001B[39m\u001B[38;5;124m\"\u001B[39m\u001B[38;5;124mParsed JSON: \u001B[39m\u001B[38;5;132;01m{\u001B[39;00mjson_content\u001B[38;5;132;01m}\u001B[39;00m\u001B[38;5;124m\"\u001B[39m)\n",
      "\u001B[1;31mTypeError\u001B[0m: ContentProvider.get_content() got an unexpected keyword argument 'format'"
     ]
    }
   ]
  }
 ],
 "metadata": {
  "kernelspec": {
   "display_name": "Python 3",
   "language": "python",
   "name": "python3"
  }
 }
}

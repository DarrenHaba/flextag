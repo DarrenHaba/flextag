{
 "cells": [
  {
   "cell_type": "markdown",
   "metadata": {},
   "source": [
    "# FlexTag Structure Testing\n",
    "This notebook verifies our basic types and project structure"
   ]
  },
  {
   "cell_type": "code",
   "execution_count": 9,
   "metadata": {
    "ExecuteTime": {
     "end_time": "2024-12-03T05:17:21.939934Z",
     "start_time": "2024-12-03T05:17:21.937475Z"
    }
   },
   "source": [
    "# Setup and imports\n",
    "from datetime import datetime\n",
    "from flextag.types.metadata import Metadata, TransportMetadata\n",
    "from flextag.managers.base import BaseManager\n",
    "\n",
    "print(\"Imports successful\")"
   ],
   "outputs": [
    {
     "name": "stdout",
     "output_type": "stream",
     "text": [
      "Imports successful\n"
     ]
    }
   ]
  },
  {
   "cell_type": "code",
   "execution_count": 10,
   "metadata": {
    "ExecuteTime": {
     "end_time": "2024-12-03T05:17:23.269776Z",
     "start_time": "2024-12-03T05:17:23.266769Z"
    }
   },
   "source": [
    "# Test 1: Basic Metadata Creation\n",
    "metadata = Metadata(\n",
    "    id=\"test1\",\n",
    "    tags=[\"example\", \"test\"],\n",
    "    paths=[\"path.to.test\"],\n",
    "    parameters={\"key\": \"value\"},\n",
    "    created=datetime.now()\n",
    ")\n",
    "\n",
    "print(\"Created metadata:\")\n",
    "print(f\"ID: {metadata.id}\")\n",
    "print(f\"Tags: {metadata.tags}\")\n",
    "print(f\"Paths: {metadata.paths}\")\n",
    "print(f\"Parameters: {metadata.parameters}\")\n",
    "print(f\"Created: {metadata.created}\")"
   ],
   "outputs": [
    {
     "name": "stdout",
     "output_type": "stream",
     "text": [
      "Created metadata:\n",
      "ID: test1\n",
      "Tags: ['example', 'test']\n",
      "Paths: ['path.to.test']\n",
      "Parameters: {'key': 'value'}\n",
      "Created: 2024-12-02 23:17:23.268269\n"
     ]
    }
   ]
  },
  {
   "cell_type": "code",
   "execution_count": 11,
   "metadata": {
    "ExecuteTime": {
     "end_time": "2024-12-03T05:17:27.655650Z",
     "start_time": "2024-12-03T05:17:27.653004Z"
    }
   },
   "source": [
    "# Test 2: Metadata Serialization\n",
    "metadata_dict = metadata.to_dict()\n",
    "new_metadata = Metadata.from_dict(metadata_dict)\n",
    "\n",
    "print(\"Testing metadata serialization/deserialization:\")\n",
    "print(f\"Original ID: {metadata.id} -> New ID: {new_metadata.id}\")\n",
    "print(f\"Original tags: {metadata.tags} -> New tags: {new_metadata.tags}\")\n",
    "print(f\"Original created: {metadata.created} -> New created: {new_metadata.created}\")"
   ],
   "outputs": [
    {
     "name": "stdout",
     "output_type": "stream",
     "text": [
      "Testing metadata serialization/deserialization:\n",
      "Original ID: test1 -> New ID: test1\n",
      "Original tags: ['example', 'test'] -> New tags: ['example', 'test']\n",
      "Original created: 2024-12-02 23:17:23.268269 -> New created: 2024-12-02 23:17:23.268269\n"
     ]
    }
   ]
  },
  {
   "cell_type": "code",
   "execution_count": 12,
   "metadata": {
    "ExecuteTime": {
     "end_time": "2024-12-03T05:17:29.389104Z",
     "start_time": "2024-12-03T05:17:29.385601Z"
    }
   },
   "source": [
    "# Test 3: Transport Metadata\n",
    "transport_meta = TransportMetadata(\n",
    "    id=\"transport1\",\n",
    "    tags=[\"test\"],\n",
    "    checksum=\"abc123\",\n",
    "    source_file=\"test.flextag\",\n",
    "    chunk_size=1024\n",
    ")\n",
    "\n",
    "print(\"Transport metadata specific fields:\")\n",
    "print(f\"Checksum: {transport_meta.checksum}\")\n",
    "print(f\"Source: {transport_meta.source_file}\")\n",
    "print(f\"Chunk size: {transport_meta.chunk_size}\")\n",
    "\n",
    "# Test inheritance\n",
    "print(\"\\nInherited fields:\")\n",
    "print(f\"ID: {transport_meta.id}\")\n",
    "print(f\"Tags: {transport_meta.tags}\")"
   ],
   "outputs": [
    {
     "name": "stdout",
     "output_type": "stream",
     "text": [
      "Transport metadata specific fields:\n",
      "Checksum: abc123\n",
      "Source: test.flextag\n",
      "Chunk size: 1024\n",
      "\n",
      "Inherited fields:\n",
      "ID: transport1\n",
      "Tags: ['test']\n"
     ]
    }
   ]
  },
  {
   "cell_type": "code",
   "execution_count": 13,
   "metadata": {
    "ExecuteTime": {
     "end_time": "2024-12-03T05:17:31.795699Z",
     "start_time": "2024-12-03T05:17:31.791813Z"
    }
   },
   "source": [
    "# Test 4: Base Manager Events\n",
    "manager = BaseManager(\"test_manager\")\n",
    "\n",
    "# Create an event handler\n",
    "def handle_test_event(event):\n",
    "    print(f\"Received event from {event.source}: {event.event_type}\")\n",
    "    print(f\"Event data: {event.data}\")\n",
    "\n",
    "# Subscribe and emit\n",
    "manager.subscribe(\"test_event\", handle_test_event)\n",
    "manager.emit(\"test_event\", {\"message\": \"Hello World\"})\n",
    "\n",
    "# Test registry\n",
    "manager.register(\"test_registry\", \"item1\", \"test value\")\n",
    "value = manager.get(\"test_registry\", \"item1\")\n",
    "print(f\"\\nRegistry test - Retrieved value: {value}\")"
   ],
   "outputs": [
    {
     "name": "stderr",
     "output_type": "stream",
     "text": [
      "DEBUG:flextag.managers.base:Initialized test_manager\n",
      "DEBUG:flextag.managers.base:test_manager: Subscribed to test_event\n",
      "DEBUG:flextag.managers.base:test_manager: Created registry 'test_registry'\n",
      "DEBUG:flextag.managers.base:test_manager: Registered 'item1' in 'test_registry'\n"
     ]
    },
    {
     "name": "stdout",
     "output_type": "stream",
     "text": [
      "Received event from test_manager: test_event\n",
      "Event data: {'message': 'Hello World'}\n",
      "\n",
      "Registry test - Retrieved value: test value\n"
     ]
    }
   ]
  }
 ],
 "metadata": {
  "kernelspec": {
   "display_name": "Python 3",
   "language": "python",
   "name": "python3"
  }
 }
}

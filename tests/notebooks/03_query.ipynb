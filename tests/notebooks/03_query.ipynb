{
 "cells": [
  {
   "cell_type": "code",
   "execution_count": 1,
   "metadata": {
    "ExecuteTime": {
     "end_time": "2024-12-03T05:56:56.088808Z",
     "start_time": "2024-12-03T05:56:56.055593Z"
    }
   },
   "source": [
    "from flextag.managers.query import QueryManager\n",
    "from flextag.managers.data import DataManager\n",
    "from flextag.core.query.provider import QueryProvider\n",
    "from flextag.core.parser.provider import ParserProvider\n",
    "\n",
    "# Setup with more verbose output\n",
    "query_manager = QueryManager()\n",
    "data_manager = DataManager()\n",
    "\n",
    "query_provider = QueryProvider()\n",
    "parser_provider = ParserProvider()\n",
    "\n",
    "query_manager.register(\"query_parsers\", \"default\", query_provider)\n",
    "data_manager.register(\"parsers\", \"default\", parser_provider)\n",
    "data_manager.connect(query_manager)\n",
    "\n",
    "print(\"Setup complete\\n\")"
   ],
   "outputs": [
    {
     "name": "stderr",
     "output_type": "stream",
     "text": [
      "DEBUG:flextag.managers.base:Initialized search_manager\n",
      "DEBUG:flextag.managers.base:search_manager: Subscribed to block_parsed\n",
      "DEBUG:flextag.managers.base:Initialized data_manager\n",
      "DEBUG:flextag.managers.base:data_manager: Created registry 'parsers'\n",
      "DEBUG:flextag.managers.base:data_manager: Created registry 'content_handlers'\n",
      "DEBUG:flextag.managers.base:search_manager: Created registry 'query_parsers'\n",
      "DEBUG:flextag.managers.base:search_manager: Registered 'default' in 'query_parsers'\n",
      "DEBUG:flextag.managers.base:data_manager: Registered 'default' in 'parsers'\n",
      "DEBUG:flextag.managers.base:data_manager: Connected to search_manager\n"
     ]
    },
    {
     "name": "stdout",
     "output_type": "stream",
     "text": [
      "Setup complete\n"
     ]
    }
   ]
  },
  {
   "cell_type": "code",
   "execution_count": 2,
   "metadata": {
    "ExecuteTime": {
     "end_time": "2024-12-03T05:56:57.552992Z",
     "start_time": "2024-12-03T05:56:57.550123Z"
    }
   },
   "source": [
    "# Test 1: Verify parser is working\n",
    "test_data = \"\"\"\n",
    "[[DATA:block1 #test .path.to.test]]\n",
    "Content\n",
    "[[/DATA]]\n",
    "\"\"\"\n",
    "\n",
    "# Parse and show the blocks\n",
    "blocks = list(parser_provider.parse_string(test_data))\n",
    "print(\"Parsed blocks:\")\n",
    "for block in blocks:\n",
    "    print(f\"\\nBlock details:\")\n",
    "    print(f\"ID: {block.id}\")\n",
    "    print(f\"Tags: {block.tags}\")\n",
    "    print(f\"Paths: {block.paths}\")\n",
    "    print(f\"Content lines: {block.content_start}-{block.content_end}\")"
   ],
   "outputs": [
    {
     "name": "stdout",
     "output_type": "stream",
     "text": [
      "Parsed blocks:\n",
      "\n",
      "Block details:\n",
      "ID: block1\n",
      "Tags: ['test']\n",
      "Paths: ['path.to.test']\n",
      "Content lines: 3-3\n"
     ]
    }
   ]
  },
  {
   "cell_type": "code",
   "execution_count": 1,
   "metadata": {
    "ExecuteTime": {
     "end_time": "2024-12-03T05:58:20.574635Z",
     "start_time": "2024-12-03T05:58:20.467803Z"
    }
   },
   "source": [
    "# Test 2: Verify DuckDB table\n",
    "print(\"DuckDB table contents before parsing:\")\n",
    "print(query_manager.conn.execute(\"SELECT * FROM blocks\").fetchall())\n",
    "\n",
    "# Parse data to populate DuckDB\n",
    "data_manager.parse_string(test_data)\n",
    "\n",
    "print(\"\\nDuckDB table contents after parsing:\")\n",
    "print(query_manager.conn.execute(\"SELECT * FROM blocks\").fetchall())\n"
   ],
   "outputs": [
    {
     "name": "stdout",
     "output_type": "stream",
     "text": [
      "DuckDB table contents before parsing:\n"
     ]
    },
    {
     "ename": "NameError",
     "evalue": "name 'query_manager' is not defined",
     "output_type": "error",
     "traceback": [
      "\u001B[1;31m---------------------------------------------------------------------------\u001B[0m",
      "\u001B[1;31mNameError\u001B[0m                                 Traceback (most recent call last)",
      "Cell \u001B[1;32mIn[1], line 3\u001B[0m\n\u001B[0;32m      1\u001B[0m \u001B[38;5;66;03m# Test 2: Verify DuckDB table\u001B[39;00m\n\u001B[0;32m      2\u001B[0m \u001B[38;5;28mprint\u001B[39m(\u001B[38;5;124m\"\u001B[39m\u001B[38;5;124mDuckDB table contents before parsing:\u001B[39m\u001B[38;5;124m\"\u001B[39m)\n\u001B[1;32m----> 3\u001B[0m \u001B[38;5;28mprint\u001B[39m(\u001B[43mquery_manager\u001B[49m\u001B[38;5;241m.\u001B[39mconn\u001B[38;5;241m.\u001B[39mexecute(\u001B[38;5;124m\"\u001B[39m\u001B[38;5;124mSELECT * FROM blocks\u001B[39m\u001B[38;5;124m\"\u001B[39m)\u001B[38;5;241m.\u001B[39mfetchall())\n\u001B[0;32m      5\u001B[0m \u001B[38;5;66;03m# Parse data to populate DuckDB\u001B[39;00m\n\u001B[0;32m      6\u001B[0m data_manager\u001B[38;5;241m.\u001B[39mparse_string(test_data)\n",
      "\u001B[1;31mNameError\u001B[0m: name 'query_manager' is not defined"
     ]
    }
   ]
  },
  {
   "cell_type": "code",
   "execution_count": null,
   "metadata": {},
   "source": [
    "# Test 3: Verify query conversion\n",
    "test_queries = [\n",
    "    \":block1\",      # ID query\n",
    "    \"#test\",        # Tag query\n",
    "    \".path.to.test\" # Path query\n",
    "]\n",
    "\n",
    "print(\"Query conversion test:\")\n",
    "for query in test_queries:\n",
    "    sql = query_provider.to_sql(query)\n",
    "    print(f\"\\nQuery: {query}\")\n",
    "    print(f\"SQL: {sql}\")\n",
    "    \n",
    "    # Execute and show results\n",
    "    results = query_manager.search(query)\n",
    "    print(f\"Results: {results}\")"
   ]
  },
  {
   "cell_type": "code",
   "execution_count": null,
   "metadata": {},
   "source": [
    "# Test 4: Direct SQL query to verify data\n",
    "print(\"Direct SQL queries:\")\n",
    "\n",
    "# Check block IDs\n",
    "print(\"\\nBlock IDs:\")\n",
    "print(query_manager.conn.execute(\"SELECT block_id FROM blocks\").fetchall())\n",
    "\n",
    "# Check tags\n",
    "print(\"\\nTags:\")\n",
    "print(query_manager.conn.execute(\"SELECT tags FROM blocks\").fetchall())\n",
    "\n",
    "# Check paths\n",
    "print(\"\\nPaths:\")\n",
    "print(query_manager.conn.execute(\"SELECT paths FROM blocks\").fetchall())\n",
    "\n",
    "# Full row dump\n",
    "print(\"\\nFull rows:\")\n",
    "print(query_manager.conn.execute(\"SELECT * FROM blocks\").fetchall())"
   ]
  }
 ],
 "metadata": {
  "kernelspec": {
   "display_name": "Python 3",
   "language": "python",
   "name": "python3"
  }
 }
}
